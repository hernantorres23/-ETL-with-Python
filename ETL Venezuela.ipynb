{
 "cells": [
  {
   "cell_type": "markdown",
   "metadata": {},
   "source": [
    "### It is one part of an ETL process that read three different kinds of .txt from eight different companies and finally send all information to SQL Server where the files are consolidated, to perform the following:\n",
    "\n",
    "* Balance Sheet\n",
    "* Profit and Loss\n",
    "* Cash Flow\n",
    "* Ad-hoc reports\n",
    "* KPI's\n",
    "\n",
    "hernantorres23@mail.ru  \n",
    "https://www.linkedin.com/in/hernantorres23/"
   ]
  },
  {
   "cell_type": "code",
   "execution_count": 1,
   "metadata": {},
   "outputs": [
    {
     "name": "stdout",
     "output_type": "stream",
     "text": [
      "Python Version = 3.8.2\n"
     ]
    }
   ],
   "source": [
    "import platform \n",
    "print(f'Python Version = {platform.python_version()}') \n",
    "# print(platform.python_version_tuple())\n"
   ]
  },
  {
   "cell_type": "code",
   "execution_count": 2,
   "metadata": {},
   "outputs": [],
   "source": [
    "import pandas as pd\n",
    "import numpy as np\n",
    "from sqlalchemy import create_engine\n",
    "from sqlalchemy.orm import sessionmaker\n",
    "from pathlib import Path\n",
    "import urllib\n",
    "import os\n",
    "import getpass\n",
    "# import sharepy\n",
    "import socket\n",
    "import requests\n",
    "import sys\n",
    "from datetime import datetime\n",
    "\n",
    "from internetconn import have_internet"
   ]
  },
  {
   "cell_type": "markdown",
   "metadata": {},
   "source": [
    "### Configurar los parametros en cada caso\n",
    "### Set the parameters for each case"
   ]
  },
  {
   "cell_type": "code",
   "execution_count": 3,
   "metadata": {},
   "outputs": [
    {
     "name": "stdout",
     "output_type": "stream",
     "text": [
      "Conectado\n",
      "Los datos seran leidos desde: https://empresa.sharepoint.com/Consolidado/SAINT/COMPANY1/comp4.txt\n",
      "hacia: C:\\Users\\hernan\\Desktop\\Consolidacion BI\n",
      "\n"
     ]
    }
   ],
   "source": [
    "user_home = os.path.expanduser('~')                    # tambien sirve os.environ['USERPROFILE']\n",
    "user_name = os.path.split(user_home)[-1].split('.')[0] # tambien sirve os.environ['USERNAME'] ó getpass.getuser() ó os.environ.get('USERNAME')\n",
    "file_to_read = 'comp1.txt'                             # esto es variable, segun la seleccion del usuario\n",
    "report_folder = 'Consolidacion BI'                     # esto es una regla (peticion de la empresa)\n",
    "full_report_path = os.path.join(user_home, 'Desktop', report_folder)\n",
    "sharepoint_site = 'https://empresa.sharepoint.com'\n",
    "company_prefix = 'H'                                   # El prefijo diferenciador en el DW, variable segun la seleccion del usuario\n",
    "company_abrv_name = 'COMPANY1'                         # El nombre abreviado o siglas de la empresa \n",
    "company_code = 'COMP1'                                 # El codigo de la compañia a nivel de la consolidación\n",
    "source_system = 'SAINT'                                # El sistema administrativo de origen\n",
    "sharepoint_company_folder = '/'.join(['Consolidado', source_system, company_abrv_name])\n",
    "full_sharepoint_path = '/'.join([sharepoint_site, sharepoint_company_folder, file_to_read])\n",
    "\n",
    "if have_internet():\n",
    "    print(f'Los datos seran leidos desde: {full_sharepoint_path}', \\\n",
    "          f'hacia: {full_report_path}', sep = '\\n', end = '\\n\\n')\n",
    "else:\n",
    "    print('No tiene conexion', 'Contacte al administrador del sistema', sep='\\n\\n')\n",
    "#     sys.exit()  \n",
    "\n",
    "\n",
    "# print(user_home, user_name, file_to_read, full_report_path, \\\n",
    "#       sharepoint_site, company_prefix, company_abrv_name, \\\n",
    "#       company_code, source_system, sharepoint_company_folder, \\\n",
    "#       full_sharepoint_path, sep='\\n')    "
   ]
  },
  {
   "cell_type": "markdown",
   "metadata": {},
   "source": [
    "### Utilizar la libreria sharepy para conectar con el servidor Sharepoint de la empresa\n",
    "Esta comentada ya que requiere una conexion real con el servidor para funcionar  \n",
    "\n",
    "### Using the sharepy library to connect with Sharepoint\n",
    "Code is commented because raises an error if can not establish the connection"
   ]
  },
  {
   "cell_type": "code",
   "execution_count": 4,
   "metadata": {},
   "outputs": [],
   "source": [
    "# sharepoint_user = 'usuario.prueba@dominio-ve.com' # credenciales del usuario para conectar: usuario\n",
    "# active_directory_pass = 'clave065'                # credenciales del usuario para conectar: password\n",
    "\n",
    "# # intento traer el archivo desde sharepoint en tres etapas\n",
    "# try:\n",
    "#     # (1) Authenticate\n",
    "#     s = sharepy.connect(sharepoint_site,\n",
    "#                         username=sharepoint_user,\n",
    "#                         password=clave)\n",
    "\n",
    "#     # (2) Get file information\n",
    "#     url_to_folder = \"/sites/COETUS360/_api/web/GetFolderByServerRelativeUrl('\"\n",
    "#     r = s.get(sharepoint_site + url_to_folder + sharepoint_company_folder + \"')/Files\")\n",
    "#     print(\"Carpeta encontrada...\")\n",
    "\n",
    "#     # (3) Download file\n",
    "#     url_to_file = \"/sites/COETUS360/_api/web/GetFileByServerRelativeUrl('/sites/COETUS360/\"\n",
    "#     r = s.getfile(sharepoint_site + url_to_file + \\\n",
    "#                   '/'.join([sharepoint_company_folder, file_to_read]) + \\\n",
    "#                   \"')/$value\", filename='/'.join([full_report_path, file_to_read]))\n",
    "#     print(\"Archivo descargado...\")\n",
    "\n",
    "# except TimeoutError:\n",
    "#     print('Demasiado tiempo para establecer la conexion con el servicio Sharepoint')\n",
    "# except requests.exceptions.ConnectionError:\n",
    "#     print('No se ha podido establecer la conexion con el servicio Sharepoint')"
   ]
  },
  {
   "cell_type": "markdown",
   "metadata": {},
   "source": [
    "### Validar si el directorio de trabajo existe y sino debe crearse\n",
    "### Validate the working directory exists and create it if not"
   ]
  },
  {
   "cell_type": "code",
   "execution_count": 5,
   "metadata": {},
   "outputs": [
    {
     "name": "stdout",
     "output_type": "stream",
     "text": [
      "El directorio de trabajo ya existia!!!\n"
     ]
    }
   ],
   "source": [
    "'''\n",
    "Crear el directorio de trabajo en caso de no existir o que haya sido eliminado por el usuario\n",
    "Create the working directory if not exists or when, by mistake, was removed by the user.\n",
    "'''\n",
    "if os.path.isdir(full_report_path):\n",
    "    print('El directorio de trabajo ya existia!!!')\n",
    "else:\n",
    "    path = Path(full_report_path)\n",
    "    path.mkdir(exist_ok=True)\n",
    "    print(f'Se creo el directorio de trabajo en {full_report_path}')"
   ]
  },
  {
   "cell_type": "markdown",
   "metadata": {},
   "source": [
    "### Crear el engine para conectarse a la base de datos y validar configuracion del administrador del proyecto\n",
    "### Set an engine to connect the database and to validate the settings created by the project chief."
   ]
  },
  {
   "cell_type": "code",
   "execution_count": 6,
   "metadata": {},
   "outputs": [
    {
     "name": "stdout",
     "output_type": "stream",
     "text": [
      "\n",
      "---------INFORMATION---------\n",
      "\n",
      "|----Conexion exitosa con el servidor de datos----|\n",
      "\n",
      "El periodo activo es: 2018-01\n",
      "\n",
      "Los usuarios activos en el proyecto son:\n",
      "              f_name  l_name           last_login\n",
      "user_name                                        \n",
      "GUEST        Invited  Torres  2021-03-09 03:54:59\n",
      "GUEST1     Invited_1  Torres  2021-03-09 03:54:59\n",
      "\n",
      "Existen 0 usuarios conectados\n",
      "\n",
      "Las compañias registradas en el proyecto son:\n",
      "                                        id  grupo\n",
      "label                                            \n",
      "Business Company Alpha Inc.          COMP1   GRP1\n",
      "Business Company Alpha Inc. USD$  COMP1USD  GRP1U\n",
      "Business Company Beta Inc.           COMP2   GRP2\n",
      "Business Company Beta Inc. USD$   COMP2USD  GRP2U\n",
      "Main Company Business Inc             MAIN   GRP1\n",
      "Main Company Business Inc USD$     MAINUSD  GRP1U\n",
      "\n"
     ]
    }
   ],
   "source": [
    "try:\n",
    "    # Utilizar credenciales de Windows\n",
    "    # Using Windows credentials\n",
    "    # quoted = urllib.parse.quote_plus(\"DRIVER={SQL Server};SERVER=Rexandmikel\\MIKEL;DATABASE=github_sqlserver;Trusted_Connection=yes\")\n",
    "    \n",
    "    # Using SQL Server credentials\n",
    "    quoted = urllib.parse.quote_plus(\"DRIVER={SQL Server}; SERVER=Rexandmikel\\\\MIKEL; \\\n",
    "                                      DATABASE=github_sqlserver; Trusted_Connection=no; \\\n",
    "                                      USER=hernan; PWD=123456\")\n",
    "    engine = create_engine('mssql+pyodbc:///?odbc_connect={}'.format(quoted))\n",
    "\n",
    "    # determinación del periodo vigente\n",
    "    # Cheking the current period\n",
    "    qry_periodo = \"Select TOP 1 id from periods_planner Where type='P'\"\n",
    "    periods = pd.read_sql(qry_periodo, con=engine, index_col=None,\n",
    "                           coerce_float=True, parse_dates=None,\n",
    "                           columns=None, chunksize=None)\n",
    "    if periods.empty:\n",
    "        print('No se ha establecido un periodo para recibir los datos') \n",
    "    else:\n",
    "        print('\\n---------INFORMATION---------', '|----Conexion exitosa con el servidor de datos----|', sep='\\n\\n', end='\\n\\n')\n",
    "        # print(type(periods), periods.shape)\n",
    "        # print(periods.iloc[0,0][1:])\n",
    "        # periods.set_index(['ID'], inplace=True)\n",
    "        # periods\n",
    "        # active_period = periods.index[0][1:5] + '-' + periods.index[0][-2:]\n",
    "        periods.iloc[0,0]\n",
    "        active_period = periods.iloc[0,0][1:5] + '-' + periods.iloc[0,0][-2:]\n",
    "        print(f'El periodo activo es: {active_period}', end = '\\n\\n')\n",
    "        # periods.head()\n",
    "\n",
    "    # determinación de los usuarios que se van a cargar en el combobox\n",
    "    # Checking how many users will be loaded in the GUI \n",
    "    qry_users = \"Select user_name,f_name,l_name,last_login from users_master \\\n",
    "    Where security_level != 0\"\n",
    "    #print(qry_users)\n",
    "    users = pd.read_sql(qry_users, con=engine, index_col=None,\n",
    "                           coerce_float=True, parse_dates=None,\n",
    "                           columns=None, chunksize=None)\n",
    "    if users.empty:\n",
    "        print('No se han asignado usuarios al proyecto')\n",
    "    else:\n",
    "        users.set_index(['user_name'], inplace=True)\n",
    "        print(f'Los usuarios activos en el proyecto son:', f'{users}', sep = '\\n', end = '\\n\\n')\n",
    "        # users.head()\n",
    "\n",
    "    # Sumar los usuarios conectados y si pasan de 5 no permitir el ingreso\n",
    "    # Sum the concurrent users and to check if the result is greater than five\n",
    "    qry_current = \"Select SUM(logged_in) qty from users_master\"\n",
    "    current_users = pd.read_sql(qry_current, con=engine, index_col=None,\n",
    "                               coerce_float=True, parse_dates=None,\n",
    "                               columns=None, chunksize=None)\n",
    "    current_users.set_index(['qty'], inplace=True) # otra forma de sacar el valor\n",
    "    print(f'Existen {current_users.index[0]} usuarios conectados', sep = '\\n', end = '\\n\\n')\n",
    "\n",
    "    # determinacion de las empresas que se van a cargar en el combobox\n",
    "    # Set which companies will be loaded to the combo box in the GUI\n",
    "    qry_companies = \"SELECT A.id, A.label, left(B.parent,5) grupo \\\n",
    "    FROM groups_m A INNER JOIN groups B ON A.ID=B.child WHERE level_number=-1 \\\n",
    "    AND left(B.parent,5) NOT IN ('conso','matri')\"\n",
    "    companies = pd.read_sql(qry_companies, con=engine, index_col=None,\n",
    "                            coerce_float=True, parse_dates=None,\n",
    "                            columns=None, chunksize=None)\n",
    "    companies.set_index(['label'], inplace=True)\n",
    "    print(f'Las compañias registradas en el proyecto son:', f'{companies}', sep = '\\n', end = '\\n\\n')\n",
    "except ModuleNotFoundError: \n",
    "    print('Please check if the library \"pyodbc\" is installed in this environment')\n",
    "except:\n",
    "    print('Existe un problema para conectar con la base de datos')"
   ]
  },
  {
   "cell_type": "markdown",
   "metadata": {},
   "source": [
    "### Darle un nombre a la transaccion en Microsoft Dynamics\n",
    "\n",
    "### Set the transaction name to Microsoft Dynamics"
   ]
  },
  {
   "cell_type": "code",
   "execution_count": 7,
   "metadata": {},
   "outputs": [
    {
     "name": "stdout",
     "output_type": "stream",
     "text": [
      "El nombre de la transaccion en MS Forecaster es: COMPANY1_HERNAN\n"
     ]
    },
    {
     "data": {
      "text/plain": [
       "'COMPANY1_HERNAN'"
      ]
     },
     "execution_count": 7,
     "metadata": {},
     "output_type": "execute_result"
    }
   ],
   "source": [
    "batch_name = company_abrv_name + '_' + user_name.upper()\n",
    "print('El nombre de la transaccion en MS Forecaster es:', batch_name)\n",
    "batch_label = 'added from Mikel ERP bridge'\n",
    "batch_name"
   ]
  },
  {
   "cell_type": "markdown",
   "metadata": {},
   "source": [
    "### Cargar el listado de las cuentas contra la cuales se van a comparar los nuevos registros\n",
    "### Load the account list to compare it with the new entries"
   ]
  },
  {
   "cell_type": "code",
   "execution_count": 8,
   "metadata": {},
   "outputs": [
    {
     "data": {
      "text/html": [
       "<div>\n",
       "<style scoped>\n",
       "    .dataframe tbody tr th:only-of-type {\n",
       "        vertical-align: middle;\n",
       "    }\n",
       "\n",
       "    .dataframe tbody tr th {\n",
       "        vertical-align: top;\n",
       "    }\n",
       "\n",
       "    .dataframe thead th {\n",
       "        text-align: right;\n",
       "    }\n",
       "</style>\n",
       "<table border=\"1\" class=\"dataframe\">\n",
       "  <thead>\n",
       "    <tr style=\"text-align: right;\">\n",
       "      <th></th>\n",
       "      <th>label</th>\n",
       "    </tr>\n",
       "    <tr>\n",
       "      <th>id</th>\n",
       "      <th></th>\n",
       "    </tr>\n",
       "  </thead>\n",
       "  <tbody>\n",
       "    <tr>\n",
       "      <th>H110101</th>\n",
       "      <td>XXXX XXXXXXXXX (X.X)</td>\n",
       "    </tr>\n",
       "    <tr>\n",
       "      <th>H110102</th>\n",
       "      <td>XXXX XXXXXXXXXXX (X.X)</td>\n",
       "    </tr>\n",
       "    <tr>\n",
       "      <th>H110103</th>\n",
       "      <td>XXXX XXXXX - XXXX XXXXXXXXXXXXXX (X.X)</td>\n",
       "    </tr>\n",
       "    <tr>\n",
       "      <th>H110104</th>\n",
       "      <td>XXXXX XXX XXXXXX, X.X. XXXXX XXXXXXXXX</td>\n",
       "    </tr>\n",
       "    <tr>\n",
       "      <th>H110105</th>\n",
       "      <td>XXXXX XXXXXXXX XX XXXXXXX (X.X)</td>\n",
       "    </tr>\n",
       "  </tbody>\n",
       "</table>\n",
       "</div>"
      ],
      "text/plain": [
       "                                          label\n",
       "id                                             \n",
       "H110101                    XXXX XXXXXXXXX (X.X)\n",
       "H110102                  XXXX XXXXXXXXXXX (X.X)\n",
       "H110103  XXXX XXXXX - XXXX XXXXXXXXXXXXXX (X.X)\n",
       "H110104  XXXXX XXX XXXXXX, X.X. XXXXX XXXXXXXXX\n",
       "H110105         XXXXX XXXXXXXX XX XXXXXXX (X.X)"
      ]
     },
     "execution_count": 8,
     "metadata": {},
     "output_type": "execute_result"
    }
   ],
   "source": [
    "'''\n",
    "En la interfaz definitiva solo se cargan las que tienen que ver con la compañia en cuestion mas las comunes.\n",
    "Aunque realmente aca no vemos el efecto, siempre se debe cargar lo necesario\n",
    "'''\n",
    "# accounts_query = 'account_master' # si quiero toda la tabla\n",
    "accounts_query = \"Select id, label From account_master Where id like '\" + company_prefix + \"%'\"\n",
    "accounts = pd.read_sql(accounts_query, con=engine, index_col=None,\n",
    "                      coerce_float=True, parse_dates=None,\n",
    "                      columns=None, chunksize=None)\n",
    "# para habilitar compatibilidd con antiguas versiones esto\n",
    "# compatibility with old versions\n",
    "#accounts = pd.read_sql_table(table_name='account_master', con = engine, schema='dbo', index_col=None, coerce_float=True,parse_dates=None, columns=None, chunksize=None)\n",
    "accounts.set_index(['id'], inplace=True)\n",
    "\n",
    "accounts.head()"
   ]
  },
  {
   "cell_type": "markdown",
   "metadata": {},
   "source": [
    "### Leer el archivo \n",
    "### Read the file"
   ]
  },
  {
   "cell_type": "code",
   "execution_count": 9,
   "metadata": {},
   "outputs": [
    {
     "name": "stdout",
     "output_type": "stream",
     "text": [
      "Success: el archivo (C:\\Users\\hernan\\Desktop\\Consolidacion BI\\comp4.txt) de origen fue leido satisfactoriamente\n",
      "\n"
     ]
    },
    {
     "data": {
      "text/html": [
       "<div>\n",
       "<style scoped>\n",
       "    .dataframe tbody tr th:only-of-type {\n",
       "        vertical-align: middle;\n",
       "    }\n",
       "\n",
       "    .dataframe tbody tr th {\n",
       "        vertical-align: top;\n",
       "    }\n",
       "\n",
       "    .dataframe thead th {\n",
       "        text-align: right;\n",
       "    }\n",
       "</style>\n",
       "<table border=\"1\" class=\"dataframe\">\n",
       "  <thead>\n",
       "    <tr style=\"text-align: right;\">\n",
       "      <th></th>\n",
       "      <th>cuenta</th>\n",
       "      <th>nombre</th>\n",
       "      <th>monto</th>\n",
       "    </tr>\n",
       "  </thead>\n",
       "  <tbody>\n",
       "    <tr>\n",
       "      <th>0</th>\n",
       "      <td>1</td>\n",
       "      <td>XXXXXX</td>\n",
       "      <td>NaN</td>\n",
       "    </tr>\n",
       "    <tr>\n",
       "      <th>1</th>\n",
       "      <td>1.1</td>\n",
       "      <td>XXXXXXX XXXXXXXXXX</td>\n",
       "      <td>NaN</td>\n",
       "    </tr>\n",
       "    <tr>\n",
       "      <th>2</th>\n",
       "      <td>1.1.01</td>\n",
       "      <td>XXXXXXXX XX XXXX X XXXXXX</td>\n",
       "      <td>NaN</td>\n",
       "    </tr>\n",
       "    <tr>\n",
       "      <th>3</th>\n",
       "      <td>1.1.01.01</td>\n",
       "      <td>XXXX XXXXXXXXX (X.X)</td>\n",
       "      <td>190,02</td>\n",
       "    </tr>\n",
       "    <tr>\n",
       "      <th>4</th>\n",
       "      <td>1.1.01.02</td>\n",
       "      <td>XXXX XXXXXXXXXXX (X.X)</td>\n",
       "      <td>0,19</td>\n",
       "    </tr>\n",
       "  </tbody>\n",
       "</table>\n",
       "</div>"
      ],
      "text/plain": [
       "      cuenta                         nombre     monto\n",
       "0          1                         XXXXXX       NaN\n",
       "1        1.1             XXXXXXX XXXXXXXXXX       NaN\n",
       "2     1.1.01      XXXXXXXX XX XXXX X XXXXXX       NaN\n",
       "3  1.1.01.01           XXXX XXXXXXXXX (X.X)    190,02\n",
       "4  1.1.01.02         XXXX XXXXXXXXXXX (X.X)      0,19"
      ]
     },
     "execution_count": 9,
     "metadata": {},
     "output_type": "execute_result"
    }
   ],
   "source": [
    "# Nota: Tuve que poner encoding ya que daba errores con algunos caracteres\n",
    "# Note: In this file is important set the encoding to latin-1 to avoid errors\n",
    "\n",
    "txt_file = os.path.join(full_report_path, file_to_read)\n",
    "# print(txt_file)\n",
    "flag = False\n",
    "try:\n",
    "    data = pd.read_csv(txt_file, skiprows=None, sep=\",\", thousands=\".\", decimal=',',\n",
    "                       encoding='latin-1', usecols=[0, 1, 6], header=None, quotechar='\"',\n",
    "                       names=('cuenta', 'nombre', 'monto'),\n",
    "                       skipinitialspace=True,\n",
    "                       dtype={'cuenta': np.character, 'nombre': np.character})\n",
    "    print(f'Success: el archivo ({txt_file}) de origen fue leido satisfactoriamente', end='\\n\\n')\n",
    "    flag = True\n",
    "except FileNotFoundError:\n",
    "    print(\"Error: No se ha encontrado el archivo de origen\")\n",
    "\n",
    "# print(data.columns.values)    \n",
    "# if flag:\n",
    "#     print(data.head())\n",
    "data.head()"
   ]
  },
  {
   "cell_type": "markdown",
   "metadata": {},
   "source": [
    "### Podemos revisar como estan nuestros datos con algun o todos los metodos\n",
    "### Validations"
   ]
  },
  {
   "cell_type": "code",
   "execution_count": 10,
   "metadata": {},
   "outputs": [
    {
     "name": "stdout",
     "output_type": "stream",
     "text": [
      "<class 'pandas.core.frame.DataFrame'>\n",
      "RangeIndex: 1189 entries, 0 to 1188\n",
      "Data columns (total 3 columns):\n",
      " #   Column  Non-Null Count  Dtype \n",
      "---  ------  --------------  ----- \n",
      " 0   cuenta  796 non-null    object\n",
      " 1   nombre  927 non-null    object\n",
      " 2   monto   930 non-null    object\n",
      "dtypes: object(3)\n",
      "memory usage: 28.0+ KB\n"
     ]
    }
   ],
   "source": [
    "data.info()\n",
    "# data.shape\n",
    "# data.describe()"
   ]
  },
  {
   "cell_type": "markdown",
   "metadata": {},
   "source": [
    "* `Se observan registros sin numero de cuenta, que no tienen ningun sentido en estados financieros y podemos borrarlos sin problema`\n",
    "* `Evaluando la cantidad de registros se presumen lineas totalmente en blanco`"
   ]
  },
  {
   "cell_type": "markdown",
   "metadata": {},
   "source": [
    "### Eliminar todos lo vacios. \n",
    "Por regla general debemos confiar en que los datos de origen tienen todo el sentido, es decir, no puede venir una cuenta contable sin nombre en un estado financiero, tampoco una cuenta sin numero, un valor vacio.  \n",
    "\n",
    "Por ello entendemos que todos los NaN o Null que se general provienen del formato del archivo y por ende podemos eliminar todos esos registros sin problemas   \n",
    "\n",
    "Pero en este caso yo prefiero validar y no aplicare `dropna` directamente\n",
    "\n",
    "### Remove all empty\n",
    "As a general rule, we must trust that the source of data has all the sense, that is, an accounting account without a name can not come in a financial statement, neither an account without a number or an empty value.\n",
    "\n",
    "For this reason, I understand that all the NaN or Null generated come from the file format, and therefore we can eliminate all those records without problems.\n",
    "\n",
    "But in this case, I prefer to validate, and I will not apply `dropna` directly"
   ]
  },
  {
   "cell_type": "code",
   "execution_count": 11,
   "metadata": {},
   "outputs": [
    {
     "data": {
      "text/plain": [
       "393"
      ]
     },
     "execution_count": 11,
     "metadata": {},
     "output_type": "execute_result"
    }
   ],
   "source": [
    "# data.isna().sum()\n",
    "data.cuenta.isnull().sum()"
   ]
  },
  {
   "cell_type": "markdown",
   "metadata": {},
   "source": [
    "### Obtenemos el indice de todos los nulos en el campo \"cuenta\" para luego pasarlos en la funcion drop\n",
    "En este caso lo hare por indexacion booleana. Para ello creare una serie con todos los indices que necesito eliminar y luego los pasare como argumento en la funcion `drop`\n",
    "\n",
    "### Obtaining the index of all null in the \"account\" field, to then pass it to drop function as a boolean indexing"
   ]
  },
  {
   "cell_type": "code",
   "execution_count": 12,
   "metadata": {},
   "outputs": [
    {
     "data": {
      "text/plain": [
       "Int64Index([  21,   22,   23,   27,   28,   29,   35,   36,   37,   47,\n",
       "            ...\n",
       "            1179, 1180, 1181, 1182, 1183, 1184, 1185, 1186, 1187, 1188],\n",
       "           dtype='int64', length=393)"
      ]
     },
     "execution_count": 12,
     "metadata": {},
     "output_type": "execute_result"
    }
   ],
   "source": [
    "account_nulls = data[data.cuenta.isnull()].index\n",
    "# account_nulls.shape\n",
    "# account_nulls.index\n",
    "account_nulls"
   ]
  },
  {
   "cell_type": "code",
   "execution_count": 13,
   "metadata": {},
   "outputs": [
    {
     "data": {
      "text/html": [
       "<div>\n",
       "<style scoped>\n",
       "    .dataframe tbody tr th:only-of-type {\n",
       "        vertical-align: middle;\n",
       "    }\n",
       "\n",
       "    .dataframe tbody tr th {\n",
       "        vertical-align: top;\n",
       "    }\n",
       "\n",
       "    .dataframe thead th {\n",
       "        text-align: right;\n",
       "    }\n",
       "</style>\n",
       "<table border=\"1\" class=\"dataframe\">\n",
       "  <thead>\n",
       "    <tr style=\"text-align: right;\">\n",
       "      <th></th>\n",
       "      <th>cuenta</th>\n",
       "      <th>nombre</th>\n",
       "      <th>monto</th>\n",
       "    </tr>\n",
       "  </thead>\n",
       "  <tbody>\n",
       "    <tr>\n",
       "      <th>0</th>\n",
       "      <td>1</td>\n",
       "      <td>XXXXXX</td>\n",
       "      <td>NaN</td>\n",
       "    </tr>\n",
       "    <tr>\n",
       "      <th>1</th>\n",
       "      <td>1.1</td>\n",
       "      <td>XXXXXXX XXXXXXXXXX</td>\n",
       "      <td>NaN</td>\n",
       "    </tr>\n",
       "    <tr>\n",
       "      <th>2</th>\n",
       "      <td>1.1.01</td>\n",
       "      <td>XXXXXXXX XX XXXX X XXXXXX</td>\n",
       "      <td>NaN</td>\n",
       "    </tr>\n",
       "    <tr>\n",
       "      <th>3</th>\n",
       "      <td>1.1.01.01</td>\n",
       "      <td>XXXX XXXXXXXXX (X.X)</td>\n",
       "      <td>190,02</td>\n",
       "    </tr>\n",
       "    <tr>\n",
       "      <th>4</th>\n",
       "      <td>1.1.01.02</td>\n",
       "      <td>XXXX XXXXXXXXXXX (X.X)</td>\n",
       "      <td>0,19</td>\n",
       "    </tr>\n",
       "    <tr>\n",
       "      <th>...</th>\n",
       "      <td>...</td>\n",
       "      <td>...</td>\n",
       "      <td>...</td>\n",
       "    </tr>\n",
       "    <tr>\n",
       "      <th>1172</th>\n",
       "      <td>8</td>\n",
       "      <td>XXXX</td>\n",
       "      <td>NaN</td>\n",
       "    </tr>\n",
       "    <tr>\n",
       "      <th>1173</th>\n",
       "      <td>8.1</td>\n",
       "      <td>XXXXX XX XXXX</td>\n",
       "      <td>NaN</td>\n",
       "    </tr>\n",
       "    <tr>\n",
       "      <th>1174</th>\n",
       "      <td>8.1.01</td>\n",
       "      <td>XXXXX XX XXXX</td>\n",
       "      <td>NaN</td>\n",
       "    </tr>\n",
       "    <tr>\n",
       "      <th>1175</th>\n",
       "      <td>8.1.01.01</td>\n",
       "      <td>XXXX XXX XXX</td>\n",
       "      <td>0,00</td>\n",
       "    </tr>\n",
       "    <tr>\n",
       "      <th>1176</th>\n",
       "      <td>8.1.01.02</td>\n",
       "      <td>XXXX XXXXXXXX</td>\n",
       "      <td>0,00</td>\n",
       "    </tr>\n",
       "  </tbody>\n",
       "</table>\n",
       "<p>796 rows × 3 columns</p>\n",
       "</div>"
      ],
      "text/plain": [
       "         cuenta                         nombre     monto\n",
       "0             1                         XXXXXX       NaN\n",
       "1           1.1             XXXXXXX XXXXXXXXXX       NaN\n",
       "2        1.1.01      XXXXXXXX XX XXXX X XXXXXX       NaN\n",
       "3     1.1.01.01           XXXX XXXXXXXXX (X.X)    190,02\n",
       "4     1.1.01.02         XXXX XXXXXXXXXXX (X.X)      0,19\n",
       "...         ...                            ...       ...\n",
       "1172          8                           XXXX       NaN\n",
       "1173        8.1                  XXXXX XX XXXX       NaN\n",
       "1174     8.1.01                  XXXXX XX XXXX       NaN\n",
       "1175  8.1.01.01                   XXXX XXX XXX      0,00\n",
       "1176  8.1.01.02                  XXXX XXXXXXXX      0,00\n",
       "\n",
       "[796 rows x 3 columns]"
      ]
     },
     "execution_count": 13,
     "metadata": {},
     "output_type": "execute_result"
    }
   ],
   "source": [
    "data = data.drop(list(account_nulls), axis=0)\n",
    "data"
   ]
  },
  {
   "cell_type": "markdown",
   "metadata": {},
   "source": [
    "### Verifico la eliminacion de los registros en el campo cuenta\n",
    "### Now I check again the elimination in \"account\" field"
   ]
  },
  {
   "cell_type": "code",
   "execution_count": 14,
   "metadata": {},
   "outputs": [
    {
     "data": {
      "text/plain": [
       "0"
      ]
     },
     "execution_count": 14,
     "metadata": {},
     "output_type": "execute_result"
    }
   ],
   "source": [
    "# data.isna().sum()\n",
    "data.cuenta.isnull().sum()"
   ]
  },
  {
   "cell_type": "code",
   "execution_count": 15,
   "metadata": {},
   "outputs": [
    {
     "name": "stdout",
     "output_type": "stream",
     "text": [
      "<class 'pandas.core.frame.DataFrame'>\n",
      "Int64Index: 796 entries, 0 to 1176\n",
      "Data columns (total 3 columns):\n",
      " #   Column  Non-Null Count  Dtype \n",
      "---  ------  --------------  ----- \n",
      " 0   cuenta  796 non-null    object\n",
      " 1   nombre  796 non-null    object\n",
      " 2   monto   667 non-null    object\n",
      "dtypes: object(3)\n",
      "memory usage: 24.9+ KB\n"
     ]
    }
   ],
   "source": [
    "data.info()"
   ]
  },
  {
   "cell_type": "markdown",
   "metadata": {},
   "source": [
    "### Cambiar el formato de la columna monto.\n",
    "Aca hay varias cosas que no premiten aplicar otras tecnicas, la primera es que el archivo es separado por comas y ademas el separador decimal tambien es la coma adicionalmente el archivo guarda las posiciones con lo cual tenemos caracteres vacios dentro de las comillas dobles.   \n",
    "\n",
    "Esta situacion no me ha dejado otro camino que el aplicado aqui, sin embargo, seguire investigando para ver que estoy haciendo mal.\n",
    "\n",
    "### Fix up the format in the \"amount\" column."
   ]
  },
  {
   "cell_type": "code",
   "execution_count": 16,
   "metadata": {},
   "outputs": [],
   "source": [
    "data['monto'] = pd.to_numeric(data['monto'].str.replace(r'[.)]', \"\").\n",
    "                              str.replace(',', \".\").str.replace('(', \"-\"),\n",
    "                              errors='coerce')\n",
    "# data.dropna(how='any', inplace=True)\n",
    "# data.drop(data[(data.monto) == 0].index, inplace=True)"
   ]
  },
  {
   "cell_type": "code",
   "execution_count": 17,
   "metadata": {},
   "outputs": [
    {
     "name": "stdout",
     "output_type": "stream",
     "text": [
      "<class 'pandas.core.frame.DataFrame'>\n",
      "Int64Index: 796 entries, 0 to 1176\n",
      "Data columns (total 3 columns):\n",
      " #   Column  Non-Null Count  Dtype  \n",
      "---  ------  --------------  -----  \n",
      " 0   cuenta  796 non-null    object \n",
      " 1   nombre  796 non-null    object \n",
      " 2   monto   667 non-null    float64\n",
      "dtypes: float64(1), object(2)\n",
      "memory usage: 24.9+ KB\n"
     ]
    }
   ],
   "source": [
    "data.info()"
   ]
  },
  {
   "cell_type": "code",
   "execution_count": 18,
   "metadata": {},
   "outputs": [
    {
     "data": {
      "text/html": [
       "<div>\n",
       "<style scoped>\n",
       "    .dataframe tbody tr th:only-of-type {\n",
       "        vertical-align: middle;\n",
       "    }\n",
       "\n",
       "    .dataframe tbody tr th {\n",
       "        vertical-align: top;\n",
       "    }\n",
       "\n",
       "    .dataframe thead th {\n",
       "        text-align: right;\n",
       "    }\n",
       "</style>\n",
       "<table border=\"1\" class=\"dataframe\">\n",
       "  <thead>\n",
       "    <tr style=\"text-align: right;\">\n",
       "      <th></th>\n",
       "      <th>cuenta</th>\n",
       "      <th>nombre</th>\n",
       "      <th>monto</th>\n",
       "    </tr>\n",
       "  </thead>\n",
       "  <tbody>\n",
       "    <tr>\n",
       "      <th>15</th>\n",
       "      <td>1.1.01.13</td>\n",
       "      <td>XXXXX XXXXXXXXX (X.X)</td>\n",
       "      <td>0.0</td>\n",
       "    </tr>\n",
       "    <tr>\n",
       "      <th>18</th>\n",
       "      <td>1.1.01.16</td>\n",
       "      <td>XXXXX XXX XXXXXX XXXX (X.X.)</td>\n",
       "      <td>0.0</td>\n",
       "    </tr>\n",
       "    <tr>\n",
       "      <th>19</th>\n",
       "      <td>1.1.01.17</td>\n",
       "      <td>XXXXX XXXXX XXXXX (X.X)</td>\n",
       "      <td>0.0</td>\n",
       "    </tr>\n",
       "    <tr>\n",
       "      <th>25</th>\n",
       "      <td>1.1.02.01</td>\n",
       "      <td>XXXXXXXXXXX XXXXXXXXXX XXXXXX XXXXXXX</td>\n",
       "      <td>0.0</td>\n",
       "    </tr>\n",
       "    <tr>\n",
       "      <th>31</th>\n",
       "      <td>1.1.03.01</td>\n",
       "      <td>XXXXXXX XXX XXXXXX XXXXXXXXXXX</td>\n",
       "      <td>0.0</td>\n",
       "    </tr>\n",
       "    <tr>\n",
       "      <th>...</th>\n",
       "      <td>...</td>\n",
       "      <td>...</td>\n",
       "      <td>...</td>\n",
       "    </tr>\n",
       "    <tr>\n",
       "      <th>1139</th>\n",
       "      <td>7.2.01.05</td>\n",
       "      <td>XXXXX XXXXXX</td>\n",
       "      <td>0.0</td>\n",
       "    </tr>\n",
       "    <tr>\n",
       "      <th>1151</th>\n",
       "      <td>7.2.02.08</td>\n",
       "      <td>XXXXX XXX XXXXXX</td>\n",
       "      <td>0.0</td>\n",
       "    </tr>\n",
       "    <tr>\n",
       "      <th>1152</th>\n",
       "      <td>7.2.02.09</td>\n",
       "      <td>XXXXX XXXXXX</td>\n",
       "      <td>0.0</td>\n",
       "    </tr>\n",
       "    <tr>\n",
       "      <th>1175</th>\n",
       "      <td>8.1.01.01</td>\n",
       "      <td>XXXX XXX XXX</td>\n",
       "      <td>0.0</td>\n",
       "    </tr>\n",
       "    <tr>\n",
       "      <th>1176</th>\n",
       "      <td>8.1.01.02</td>\n",
       "      <td>XXXX XXXXXXXX</td>\n",
       "      <td>0.0</td>\n",
       "    </tr>\n",
       "  </tbody>\n",
       "</table>\n",
       "<p>377 rows × 3 columns</p>\n",
       "</div>"
      ],
      "text/plain": [
       "         cuenta                                       nombre  monto\n",
       "15    1.1.01.13                        XXXXX XXXXXXXXX (X.X)    0.0\n",
       "18    1.1.01.16                 XXXXX XXX XXXXXX XXXX (X.X.)    0.0\n",
       "19    1.1.01.17                      XXXXX XXXXX XXXXX (X.X)    0.0\n",
       "25    1.1.02.01        XXXXXXXXXXX XXXXXXXXXX XXXXXX XXXXXXX    0.0\n",
       "31    1.1.03.01               XXXXXXX XXX XXXXXX XXXXXXXXXXX    0.0\n",
       "...         ...                                          ...    ...\n",
       "1139  7.2.01.05                                 XXXXX XXXXXX    0.0\n",
       "1151  7.2.02.08                             XXXXX XXX XXXXXX    0.0\n",
       "1152  7.2.02.09                                 XXXXX XXXXXX    0.0\n",
       "1175  8.1.01.01                                 XXXX XXX XXX    0.0\n",
       "1176  8.1.01.02                                XXXX XXXXXXXX    0.0\n",
       "\n",
       "[377 rows x 3 columns]"
      ]
     },
     "execution_count": 18,
     "metadata": {},
     "output_type": "execute_result"
    }
   ],
   "source": [
    "data[data.monto == 0]\n",
    "# data.info()"
   ]
  },
  {
   "cell_type": "markdown",
   "metadata": {},
   "source": [
    "### Aplicando la misma metodologia utilizada para las cuentas, obtenemos el indice de todos los nulos en el campo \"monto\" para luego pasarlos en la funcion drop\n",
    "Sin embargo, aca no nos funciona la indexacion booleana ya que como veremos en el resultado de ejecutar la fila siguiente, a pesar de mostrar una propiedad lenght de 796, observo indices que no deberian estar ahi, a simple vista veo el 3 y el 4 y aplicando todo el metodo de las cuentas borraria todos los registros.\n",
    "\n",
    "### Validation that I can't use the same technique to remove the nulls in the \"amount\" field\n",
    "However, here the Boolean indexing does not work for us since as we will see in the result of executing the next row, despite showing a property quantity of entries 796, I see indices that should not be there, with the naked eye I see 3 and 4 and applying all the method of the accounts deletes all the records."
   ]
  },
  {
   "cell_type": "code",
   "execution_count": 19,
   "metadata": {},
   "outputs": [
    {
     "data": {
      "text/plain": [
       "Int64Index([   0,    1,    2,    3,    4,    5,    6,    7,    8,    9,\n",
       "            ...\n",
       "            1152, 1159, 1160, 1161, 1162, 1172, 1173, 1174, 1175, 1176],\n",
       "           dtype='int64', length=796)"
      ]
     },
     "execution_count": 19,
     "metadata": {},
     "output_type": "execute_result"
    }
   ],
   "source": [
    "amounts_nulls = data.monto.isna().index\n",
    "# amounts_nulls.shape\n",
    "# amounts_nulls.index\n",
    "amounts_nulls"
   ]
  },
  {
   "cell_type": "code",
   "execution_count": 20,
   "metadata": {},
   "outputs": [
    {
     "data": {
      "text/html": [
       "<div>\n",
       "<style scoped>\n",
       "    .dataframe tbody tr th:only-of-type {\n",
       "        vertical-align: middle;\n",
       "    }\n",
       "\n",
       "    .dataframe tbody tr th {\n",
       "        vertical-align: top;\n",
       "    }\n",
       "\n",
       "    .dataframe thead th {\n",
       "        text-align: right;\n",
       "    }\n",
       "</style>\n",
       "<table border=\"1\" class=\"dataframe\">\n",
       "  <thead>\n",
       "    <tr style=\"text-align: right;\">\n",
       "      <th></th>\n",
       "      <th>cuenta</th>\n",
       "      <th>nombre</th>\n",
       "      <th>monto</th>\n",
       "    </tr>\n",
       "  </thead>\n",
       "  <tbody>\n",
       "    <tr>\n",
       "      <th>0</th>\n",
       "      <td>1</td>\n",
       "      <td>XXXXXX</td>\n",
       "      <td>NaN</td>\n",
       "    </tr>\n",
       "    <tr>\n",
       "      <th>1</th>\n",
       "      <td>1.1</td>\n",
       "      <td>XXXXXXX XXXXXXXXXX</td>\n",
       "      <td>NaN</td>\n",
       "    </tr>\n",
       "    <tr>\n",
       "      <th>2</th>\n",
       "      <td>1.1.01</td>\n",
       "      <td>XXXXXXXX XX XXXX X XXXXXX</td>\n",
       "      <td>NaN</td>\n",
       "    </tr>\n",
       "    <tr>\n",
       "      <th>3</th>\n",
       "      <td>1.1.01.01</td>\n",
       "      <td>XXXX XXXXXXXXX (X.X)</td>\n",
       "      <td>190.02</td>\n",
       "    </tr>\n",
       "    <tr>\n",
       "      <th>4</th>\n",
       "      <td>1.1.01.02</td>\n",
       "      <td>XXXX XXXXXXXXXXX (X.X)</td>\n",
       "      <td>0.19</td>\n",
       "    </tr>\n",
       "  </tbody>\n",
       "</table>\n",
       "</div>"
      ],
      "text/plain": [
       "      cuenta                         nombre   monto\n",
       "0          1                         XXXXXX     NaN\n",
       "1        1.1             XXXXXXX XXXXXXXXXX     NaN\n",
       "2     1.1.01      XXXXXXXX XX XXXX X XXXXXX     NaN\n",
       "3  1.1.01.01           XXXX XXXXXXXXX (X.X)  190.02\n",
       "4  1.1.01.02         XXXX XXXXXXXXXXX (X.X)    0.19"
      ]
     },
     "execution_count": 20,
     "metadata": {},
     "output_type": "execute_result"
    }
   ],
   "source": [
    "data.head()"
   ]
  },
  {
   "cell_type": "markdown",
   "metadata": {},
   "source": [
    "### Comienzo borrando aquellas entradas que me haya arreglado el coerce ejecutado durante la transformacion de los montos\n",
    "Por lo explicado anteriormente entonces cambio la tecnica de borrado\n",
    "\n",
    "### Begin applying deletion with those entries fixed by the coerce parameter in the \"amount\" transformation process\n",
    "I start deletion with the entries fix-up by the \"coerce\" parameter in the \"amount\" field transformation process"
   ]
  },
  {
   "cell_type": "code",
   "execution_count": 21,
   "metadata": {},
   "outputs": [],
   "source": [
    "data.dropna(subset=['monto'], inplace=True, axis=0)"
   ]
  },
  {
   "cell_type": "code",
   "execution_count": 22,
   "metadata": {},
   "outputs": [
    {
     "name": "stdout",
     "output_type": "stream",
     "text": [
      "<class 'pandas.core.frame.DataFrame'>\n",
      "Int64Index: 667 entries, 3 to 1176\n",
      "Data columns (total 3 columns):\n",
      " #   Column  Non-Null Count  Dtype  \n",
      "---  ------  --------------  -----  \n",
      " 0   cuenta  667 non-null    object \n",
      " 1   nombre  667 non-null    object \n",
      " 2   monto   667 non-null    float64\n",
      "dtypes: float64(1), object(2)\n",
      "memory usage: 20.8+ KB\n"
     ]
    }
   ],
   "source": [
    "data.info()"
   ]
  },
  {
   "cell_type": "markdown",
   "metadata": {},
   "source": [
    "### Pero aun tenemos valores que no nos sirven como veremos al ejecutar la fila siguiente.\n",
    "### But still, we have entries with zero values, as we will see after the execute the next cell."
   ]
  },
  {
   "cell_type": "code",
   "execution_count": 23,
   "metadata": {},
   "outputs": [
    {
     "data": {
      "text/plain": [
       "377"
      ]
     },
     "execution_count": 23,
     "metadata": {},
     "output_type": "execute_result"
    }
   ],
   "source": [
    "sum(data.monto == 0)"
   ]
  },
  {
   "cell_type": "code",
   "execution_count": 24,
   "metadata": {},
   "outputs": [],
   "source": [
    "# Los borramos o filtramos ya que son cuentas con valor cero\n",
    "# We have the options to delete or filter\n",
    "data.drop(data[(data.monto) == 0].index, inplace=True) # borrado (to remove)\n",
    "# data = data[data.monto != 0] # filtrado (filtered)\n"
   ]
  },
  {
   "cell_type": "code",
   "execution_count": 25,
   "metadata": {},
   "outputs": [
    {
     "data": {
      "text/html": [
       "<div>\n",
       "<style scoped>\n",
       "    .dataframe tbody tr th:only-of-type {\n",
       "        vertical-align: middle;\n",
       "    }\n",
       "\n",
       "    .dataframe tbody tr th {\n",
       "        vertical-align: top;\n",
       "    }\n",
       "\n",
       "    .dataframe thead th {\n",
       "        text-align: right;\n",
       "    }\n",
       "</style>\n",
       "<table border=\"1\" class=\"dataframe\">\n",
       "  <thead>\n",
       "    <tr style=\"text-align: right;\">\n",
       "      <th></th>\n",
       "      <th>cuenta</th>\n",
       "      <th>nombre</th>\n",
       "      <th>monto</th>\n",
       "    </tr>\n",
       "  </thead>\n",
       "  <tbody>\n",
       "    <tr>\n",
       "      <th>3</th>\n",
       "      <td>1.1.01.01</td>\n",
       "      <td>XXXX XXXXXXXXX (X.X)</td>\n",
       "      <td>190.02</td>\n",
       "    </tr>\n",
       "    <tr>\n",
       "      <th>4</th>\n",
       "      <td>1.1.01.02</td>\n",
       "      <td>XXXX XXXXXXXXXXX (X.X)</td>\n",
       "      <td>0.19</td>\n",
       "    </tr>\n",
       "    <tr>\n",
       "      <th>5</th>\n",
       "      <td>1.1.01.03</td>\n",
       "      <td>XXXX XXXXX - XXXX XXXXXXXXXXXXXX (X.X)</td>\n",
       "      <td>0.45</td>\n",
       "    </tr>\n",
       "    <tr>\n",
       "      <th>6</th>\n",
       "      <td>1.1.01.04</td>\n",
       "      <td>XXXXX XXX XXXXXX, X.X XXXXX XXXXXXXXX</td>\n",
       "      <td>71.12</td>\n",
       "    </tr>\n",
       "    <tr>\n",
       "      <th>7</th>\n",
       "      <td>1.1.01.05</td>\n",
       "      <td>XXXXX XXXXXXXX XX XXXXXXX (X.X)</td>\n",
       "      <td>29574.72</td>\n",
       "    </tr>\n",
       "    <tr>\n",
       "      <th>...</th>\n",
       "      <td>...</td>\n",
       "      <td>...</td>\n",
       "      <td>...</td>\n",
       "    </tr>\n",
       "    <tr>\n",
       "      <th>1148</th>\n",
       "      <td>7.2.02.05</td>\n",
       "      <td>XXXXX XX XXXXXXXXX</td>\n",
       "      <td>0.01</td>\n",
       "    </tr>\n",
       "    <tr>\n",
       "      <th>1149</th>\n",
       "      <td>7.2.02.06</td>\n",
       "      <td>XXXXXXX XXXXXX</td>\n",
       "      <td>139.02</td>\n",
       "    </tr>\n",
       "    <tr>\n",
       "      <th>1150</th>\n",
       "      <td>7.2.02.07</td>\n",
       "      <td>XXX XXXXXXX</td>\n",
       "      <td>64.08</td>\n",
       "    </tr>\n",
       "    <tr>\n",
       "      <th>1161</th>\n",
       "      <td>7.3.01.01</td>\n",
       "      <td>XXXXXXXX XXX XXXXXXXXXX XX XXXXXX</td>\n",
       "      <td>-76432.03</td>\n",
       "    </tr>\n",
       "    <tr>\n",
       "      <th>1162</th>\n",
       "      <td>7.3.01.02</td>\n",
       "      <td>XXXXXX XXX XXXXXXXXXX XX XXXXXX</td>\n",
       "      <td>16400.62</td>\n",
       "    </tr>\n",
       "  </tbody>\n",
       "</table>\n",
       "<p>290 rows × 3 columns</p>\n",
       "</div>"
      ],
      "text/plain": [
       "         cuenta                                        nombre     monto\n",
       "3     1.1.01.01                          XXXX XXXXXXXXX (X.X)    190.02\n",
       "4     1.1.01.02                        XXXX XXXXXXXXXXX (X.X)      0.19\n",
       "5     1.1.01.03        XXXX XXXXX - XXXX XXXXXXXXXXXXXX (X.X)      0.45\n",
       "6     1.1.01.04         XXXXX XXX XXXXXX, X.X XXXXX XXXXXXXXX     71.12\n",
       "7     1.1.01.05               XXXXX XXXXXXXX XX XXXXXXX (X.X)  29574.72\n",
       "...         ...                                           ...       ...\n",
       "1148  7.2.02.05                            XXXXX XX XXXXXXXXX      0.01\n",
       "1149  7.2.02.06                                XXXXXXX XXXXXX    139.02\n",
       "1150  7.2.02.07                                   XXX XXXXXXX     64.08\n",
       "1161  7.3.01.01             XXXXXXXX XXX XXXXXXXXXX XX XXXXXX -76432.03\n",
       "1162  7.3.01.02               XXXXXX XXX XXXXXXXXXX XX XXXXXX  16400.62\n",
       "\n",
       "[290 rows x 3 columns]"
      ]
     },
     "execution_count": 25,
     "metadata": {},
     "output_type": "execute_result"
    }
   ],
   "source": [
    "data"
   ]
  },
  {
   "cell_type": "markdown",
   "metadata": {},
   "source": [
    "### Validamos el borrado de las filas con montos igual a cero\n",
    "### Again, validating our delete"
   ]
  },
  {
   "cell_type": "code",
   "execution_count": 26,
   "metadata": {},
   "outputs": [
    {
     "data": {
      "text/plain": [
       "0"
      ]
     },
     "execution_count": 26,
     "metadata": {},
     "output_type": "execute_result"
    }
   ],
   "source": [
    "sum(data.monto == 0)"
   ]
  },
  {
   "cell_type": "markdown",
   "metadata": {},
   "source": [
    "### Hacemos un test para validar se cumple el principio de la partida doble\n",
    "### We make a test to validate the double-entry principle"
   ]
  },
  {
   "cell_type": "code",
   "execution_count": 27,
   "metadata": {},
   "outputs": [
    {
     "name": "stdout",
     "output_type": "stream",
     "text": [
      "Excellent all is working good, the test for double entry is 0.0\n"
     ]
    }
   ],
   "source": [
    "double_entry_test = round(data.monto.sum(),2)\n",
    "# data.round({\"monto\": 2})\n",
    "if double_entry_test != 0:\n",
    "    print('Please check the double entry value')\n",
    "else:\n",
    "    print(f'Excellent all is working good, the test for double entry is {double_entry_test}')"
   ]
  },
  {
   "cell_type": "markdown",
   "metadata": {},
   "source": [
    "### Limpiar el campo cuenta y agregar la columna que servira para realizar el JOIN(merge) con la tabla que tiene las cuentas validadas en el DW\n",
    "* Asignar el prefijo a las cuentas segun la compañia seleccionada\n",
    "* Eliminar caracteres especiales en las cuentas\n",
    "\n",
    "\n",
    "### Cleaning the \"account\" field and add the column to perform the Join(\"merge\" in pandas) with the table that has the valid accounts in the DW\n",
    "* Assing the prefix to the account according to the selected company\n",
    "* Remove all special characters in the \"account\" field"
   ]
  },
  {
   "cell_type": "code",
   "execution_count": 28,
   "metadata": {},
   "outputs": [
    {
     "data": {
      "text/html": [
       "<div>\n",
       "<style scoped>\n",
       "    .dataframe tbody tr th:only-of-type {\n",
       "        vertical-align: middle;\n",
       "    }\n",
       "\n",
       "    .dataframe tbody tr th {\n",
       "        vertical-align: top;\n",
       "    }\n",
       "\n",
       "    .dataframe thead th {\n",
       "        text-align: right;\n",
       "    }\n",
       "</style>\n",
       "<table border=\"1\" class=\"dataframe\">\n",
       "  <thead>\n",
       "    <tr style=\"text-align: right;\">\n",
       "      <th></th>\n",
       "      <th>cuenta</th>\n",
       "      <th>nombre</th>\n",
       "      <th>monto</th>\n",
       "      <th>id</th>\n",
       "    </tr>\n",
       "  </thead>\n",
       "  <tbody>\n",
       "    <tr>\n",
       "      <th>3</th>\n",
       "      <td>1.1.01.01</td>\n",
       "      <td>XXXX XXXXXXXXX (X.X)</td>\n",
       "      <td>190.02</td>\n",
       "      <td>H110101</td>\n",
       "    </tr>\n",
       "    <tr>\n",
       "      <th>4</th>\n",
       "      <td>1.1.01.02</td>\n",
       "      <td>XXXX XXXXXXXXXXX (X.X)</td>\n",
       "      <td>0.19</td>\n",
       "      <td>H110102</td>\n",
       "    </tr>\n",
       "    <tr>\n",
       "      <th>5</th>\n",
       "      <td>1.1.01.03</td>\n",
       "      <td>XXXX XXXXX - XXXX XXXXXXXXXXXXXX (X.X)</td>\n",
       "      <td>0.45</td>\n",
       "      <td>H110103</td>\n",
       "    </tr>\n",
       "    <tr>\n",
       "      <th>6</th>\n",
       "      <td>1.1.01.04</td>\n",
       "      <td>XXXXX XXX XXXXXX, X.X XXXXX XXXXXXXXX</td>\n",
       "      <td>71.12</td>\n",
       "      <td>H110104</td>\n",
       "    </tr>\n",
       "    <tr>\n",
       "      <th>7</th>\n",
       "      <td>1.1.01.05</td>\n",
       "      <td>XXXXX XXXXXXXX XX XXXXXXX (X.X)</td>\n",
       "      <td>29574.72</td>\n",
       "      <td>H110105</td>\n",
       "    </tr>\n",
       "    <tr>\n",
       "      <th>...</th>\n",
       "      <td>...</td>\n",
       "      <td>...</td>\n",
       "      <td>...</td>\n",
       "      <td>...</td>\n",
       "    </tr>\n",
       "    <tr>\n",
       "      <th>1148</th>\n",
       "      <td>7.2.02.05</td>\n",
       "      <td>XXXXX XX XXXXXXXXX</td>\n",
       "      <td>0.01</td>\n",
       "      <td>H720205</td>\n",
       "    </tr>\n",
       "    <tr>\n",
       "      <th>1149</th>\n",
       "      <td>7.2.02.06</td>\n",
       "      <td>XXXXXXX XXXXXX</td>\n",
       "      <td>139.02</td>\n",
       "      <td>H720206</td>\n",
       "    </tr>\n",
       "    <tr>\n",
       "      <th>1150</th>\n",
       "      <td>7.2.02.07</td>\n",
       "      <td>XXX XXXXXXX</td>\n",
       "      <td>64.08</td>\n",
       "      <td>H720207</td>\n",
       "    </tr>\n",
       "    <tr>\n",
       "      <th>1161</th>\n",
       "      <td>7.3.01.01</td>\n",
       "      <td>XXXXXXXX XXX XXXXXXXXXX XX XXXXXX</td>\n",
       "      <td>-76432.03</td>\n",
       "      <td>H730101</td>\n",
       "    </tr>\n",
       "    <tr>\n",
       "      <th>1162</th>\n",
       "      <td>7.3.01.02</td>\n",
       "      <td>XXXXXX XXX XXXXXXXXXX XX XXXXXX</td>\n",
       "      <td>16400.62</td>\n",
       "      <td>H730102</td>\n",
       "    </tr>\n",
       "  </tbody>\n",
       "</table>\n",
       "<p>290 rows × 4 columns</p>\n",
       "</div>"
      ],
      "text/plain": [
       "         cuenta                                        nombre     monto  \\\n",
       "3     1.1.01.01                          XXXX XXXXXXXXX (X.X)    190.02   \n",
       "4     1.1.01.02                        XXXX XXXXXXXXXXX (X.X)      0.19   \n",
       "5     1.1.01.03        XXXX XXXXX - XXXX XXXXXXXXXXXXXX (X.X)      0.45   \n",
       "6     1.1.01.04         XXXXX XXX XXXXXX, X.X XXXXX XXXXXXXXX     71.12   \n",
       "7     1.1.01.05               XXXXX XXXXXXXX XX XXXXXXX (X.X)  29574.72   \n",
       "...         ...                                           ...       ...   \n",
       "1148  7.2.02.05                            XXXXX XX XXXXXXXXX      0.01   \n",
       "1149  7.2.02.06                                XXXXXXX XXXXXX    139.02   \n",
       "1150  7.2.02.07                                   XXX XXXXXXX     64.08   \n",
       "1161  7.3.01.01             XXXXXXXX XXX XXXXXXXXXX XX XXXXXX -76432.03   \n",
       "1162  7.3.01.02               XXXXXX XXX XXXXXXXXXX XX XXXXXX  16400.62   \n",
       "\n",
       "           id  \n",
       "3     H110101  \n",
       "4     H110102  \n",
       "5     H110103  \n",
       "6     H110104  \n",
       "7     H110105  \n",
       "...       ...  \n",
       "1148  H720205  \n",
       "1149  H720206  \n",
       "1150  H720207  \n",
       "1161  H730101  \n",
       "1162  H730102  \n",
       "\n",
       "[290 rows x 4 columns]"
      ]
     },
     "execution_count": 28,
     "metadata": {},
     "output_type": "execute_result"
    }
   ],
   "source": [
    "def clean_accounts(x):\n",
    "    return ''.join(filter(lambda c: c in '0123456789', x))\n",
    "\n",
    "# Test de la funcion\n",
    "# print(clean_accounts('1.01.01.30.301'))\n",
    "\n",
    "data['id'] = company_prefix + data.cuenta.apply(clean_accounts)\n",
    "data"
   ]
  },
  {
   "cell_type": "code",
   "execution_count": 29,
   "metadata": {},
   "outputs": [
    {
     "name": "stdout",
     "output_type": "stream",
     "text": [
      "<class 'pandas.core.frame.DataFrame'>\n",
      "Int64Index: 290 entries, 3 to 1162\n",
      "Data columns (total 4 columns):\n",
      " #   Column  Non-Null Count  Dtype  \n",
      "---  ------  --------------  -----  \n",
      " 0   cuenta  290 non-null    object \n",
      " 1   nombre  290 non-null    object \n",
      " 2   monto   290 non-null    float64\n",
      " 3   id      290 non-null    object \n",
      "dtypes: float64(1), object(3)\n",
      "memory usage: 11.3+ KB\n"
     ]
    }
   ],
   "source": [
    "data.info()"
   ]
  },
  {
   "cell_type": "markdown",
   "metadata": {},
   "source": [
    "### Limpiar texto en los nombres de las cuentas (Eliminar espacios antes y despues de la cadena)\n",
    "### Remove not necessary spaces on the left and right in account names"
   ]
  },
  {
   "cell_type": "code",
   "execution_count": 30,
   "metadata": {},
   "outputs": [],
   "source": [
    "data.nombre = data.nombre.str.strip()"
   ]
  },
  {
   "cell_type": "markdown",
   "metadata": {},
   "source": [
    "### Asignar el dataframe a la variable de convencion (df) y ordenar columnas como se requieren\n",
    "### Apply the name convention to the DataFrame (\"df\") and sort the columns as required"
   ]
  },
  {
   "cell_type": "code",
   "execution_count": 31,
   "metadata": {},
   "outputs": [
    {
     "name": "stdout",
     "output_type": "stream",
     "text": [
      "El dataframe final tiene 290 registros validos.\n",
      "\n",
      "         id                                   nombre     monto     cuenta\n",
      "3   H110101                     XXXX XXXXXXXXX (X.X)    190.02  1.1.01.01\n",
      "4   H110102                   XXXX XXXXXXXXXXX (X.X)      0.19  1.1.01.02\n",
      "5   H110103   XXXX XXXXX - XXXX XXXXXXXXXXXXXX (X.X)      0.45  1.1.01.03\n",
      "6   H110104    XXXXX XXX XXXXXX, X.X XXXXX XXXXXXXXX     71.12  1.1.01.04\n",
      "7   H110105          XXXXX XXXXXXXX XX XXXXXXX (X.X)  29574.72  1.1.01.05\n",
      "8   H110106            XXXXXXX XXXXX XXXXXXXXX (X.X)   2935.62  1.1.01.06\n",
      "9   H110107      XXXXX XXXXXXXXXX XX XXXXXXXXX (X.X)    658.00  1.1.01.07\n",
      "10  H110108                XXXXX XXXXXXXXXXXX (X.X.)    588.36  1.1.01.08\n",
      "11  H110109                 XXXXX XX XXXXXXXXX (X.X)   1229.40  1.1.01.09\n",
      "12  H110110                 XXXXX XXXXXXXXXXXX (X.X)      0.01  1.1.01.10\n",
      "13  H110111                     XXXXXXX XXXXXX (X.X)  10728.31  1.1.01.11\n",
      "14  H110112  XXXXX XXXXXXXX XX XXXXXXX XXXXXXX (X.X)      0.04  1.1.01.12\n",
      "16  H110114        XXXXXXXXXXX XXXXXXXXX XX XXXXXXXX     -4.38  1.1.01.14\n",
      "17  H110115                       XXXXX XXXXXX (X.X)     32.39  1.1.01.15\n",
      "20  H110150           XXXX XXXXXXXXX (X.X) (XXXXXXX)   -793.73  1.1.01.50\n"
     ]
    }
   ],
   "source": [
    "df = data[['id', 'nombre', 'monto', 'cuenta']]\n",
    "# df.set_index(['ID'], inplace=True)\n",
    "rows_qty = df.shape[0] # rows quantity\n",
    "print (f'El dataframe final tiene {rows_qty} registros validos.', end='\\n\\n')\n",
    "print(df.head(15))"
   ]
  },
  {
   "cell_type": "markdown",
   "metadata": {},
   "source": [
    "### Asignar un indice nos facilitara las cosas cuando queramos revisar algo y cuando vayamos a enviar la informacion al servidor de datos\n",
    "\n",
    "### Apply an index to make it easy to check something, and when we want to send the information towards the DW"
   ]
  },
  {
   "cell_type": "code",
   "execution_count": 32,
   "metadata": {},
   "outputs": [
    {
     "name": "stdout",
     "output_type": "stream",
     "text": [
      "The index selected is id\n",
      "The new index is id\n"
     ]
    }
   ],
   "source": [
    "# df.reset_index(inplace=True)\n",
    "# data.cuenta.is_unique\n",
    "try:\n",
    "    if df.id.is_unique:\n",
    "        my_index = df.id.name\n",
    "        print(f'The index selected is {my_index}')\n",
    "        try:\n",
    "            df.set_index(my_index, inplace = True)\n",
    "            df.head()\n",
    "            print(f'The new index is {my_index}')\n",
    "        except KeyError:\n",
    "            print(f'The index is already')\n",
    "    else:\n",
    "        print(f'The selected field (\"{df.id.name}\") that you are trying to apply as index, does not have unique values')\n",
    "        \n",
    "except KeyError:\n",
    "    print(f'The index is already')"
   ]
  },
  {
   "cell_type": "code",
   "execution_count": 33,
   "metadata": {},
   "outputs": [
    {
     "data": {
      "text/html": [
       "<div>\n",
       "<style scoped>\n",
       "    .dataframe tbody tr th:only-of-type {\n",
       "        vertical-align: middle;\n",
       "    }\n",
       "\n",
       "    .dataframe tbody tr th {\n",
       "        vertical-align: top;\n",
       "    }\n",
       "\n",
       "    .dataframe thead th {\n",
       "        text-align: right;\n",
       "    }\n",
       "</style>\n",
       "<table border=\"1\" class=\"dataframe\">\n",
       "  <thead>\n",
       "    <tr style=\"text-align: right;\">\n",
       "      <th></th>\n",
       "      <th>nombre</th>\n",
       "      <th>monto</th>\n",
       "      <th>cuenta</th>\n",
       "    </tr>\n",
       "    <tr>\n",
       "      <th>id</th>\n",
       "      <th></th>\n",
       "      <th></th>\n",
       "      <th></th>\n",
       "    </tr>\n",
       "  </thead>\n",
       "  <tbody>\n",
       "    <tr>\n",
       "      <th>H110101</th>\n",
       "      <td>XXXX XXXXXXXXX (X.X)</td>\n",
       "      <td>190.02</td>\n",
       "      <td>1.1.01.01</td>\n",
       "    </tr>\n",
       "    <tr>\n",
       "      <th>H110102</th>\n",
       "      <td>XXXX XXXXXXXXXXX (X.X)</td>\n",
       "      <td>0.19</td>\n",
       "      <td>1.1.01.02</td>\n",
       "    </tr>\n",
       "    <tr>\n",
       "      <th>H110103</th>\n",
       "      <td>XXXX XXXXX - XXXX XXXXXXXXXXXXXX (X.X)</td>\n",
       "      <td>0.45</td>\n",
       "      <td>1.1.01.03</td>\n",
       "    </tr>\n",
       "    <tr>\n",
       "      <th>H110104</th>\n",
       "      <td>XXXXX XXX XXXXXX, X.X XXXXX XXXXXXXXX</td>\n",
       "      <td>71.12</td>\n",
       "      <td>1.1.01.04</td>\n",
       "    </tr>\n",
       "    <tr>\n",
       "      <th>H110105</th>\n",
       "      <td>XXXXX XXXXXXXX XX XXXXXXX (X.X)</td>\n",
       "      <td>29574.72</td>\n",
       "      <td>1.1.01.05</td>\n",
       "    </tr>\n",
       "    <tr>\n",
       "      <th>H110106</th>\n",
       "      <td>XXXXXXX XXXXX XXXXXXXXX (X.X)</td>\n",
       "      <td>2935.62</td>\n",
       "      <td>1.1.01.06</td>\n",
       "    </tr>\n",
       "    <tr>\n",
       "      <th>H110107</th>\n",
       "      <td>XXXXX XXXXXXXXXX XX XXXXXXXXX (X.X)</td>\n",
       "      <td>658.00</td>\n",
       "      <td>1.1.01.07</td>\n",
       "    </tr>\n",
       "    <tr>\n",
       "      <th>H110108</th>\n",
       "      <td>XXXXX XXXXXXXXXXXX (X.X.)</td>\n",
       "      <td>588.36</td>\n",
       "      <td>1.1.01.08</td>\n",
       "    </tr>\n",
       "    <tr>\n",
       "      <th>H110109</th>\n",
       "      <td>XXXXX XX XXXXXXXXX (X.X)</td>\n",
       "      <td>1229.40</td>\n",
       "      <td>1.1.01.09</td>\n",
       "    </tr>\n",
       "    <tr>\n",
       "      <th>H110110</th>\n",
       "      <td>XXXXX XXXXXXXXXXXX (X.X)</td>\n",
       "      <td>0.01</td>\n",
       "      <td>1.1.01.10</td>\n",
       "    </tr>\n",
       "  </tbody>\n",
       "</table>\n",
       "</div>"
      ],
      "text/plain": [
       "                                         nombre     monto     cuenta\n",
       "id                                                                  \n",
       "H110101                    XXXX XXXXXXXXX (X.X)    190.02  1.1.01.01\n",
       "H110102                  XXXX XXXXXXXXXXX (X.X)      0.19  1.1.01.02\n",
       "H110103  XXXX XXXXX - XXXX XXXXXXXXXXXXXX (X.X)      0.45  1.1.01.03\n",
       "H110104   XXXXX XXX XXXXXX, X.X XXXXX XXXXXXXXX     71.12  1.1.01.04\n",
       "H110105         XXXXX XXXXXXXX XX XXXXXXX (X.X)  29574.72  1.1.01.05\n",
       "H110106           XXXXXXX XXXXX XXXXXXXXX (X.X)   2935.62  1.1.01.06\n",
       "H110107     XXXXX XXXXXXXXXX XX XXXXXXXXX (X.X)    658.00  1.1.01.07\n",
       "H110108               XXXXX XXXXXXXXXXXX (X.X.)    588.36  1.1.01.08\n",
       "H110109                XXXXX XX XXXXXXXXX (X.X)   1229.40  1.1.01.09\n",
       "H110110                XXXXX XXXXXXXXXXXX (X.X)      0.01  1.1.01.10"
      ]
     },
     "execution_count": 33,
     "metadata": {},
     "output_type": "execute_result"
    }
   ],
   "source": [
    "df.head(10)"
   ]
  },
  {
   "cell_type": "markdown",
   "metadata": {},
   "source": [
    "### Tener la opcion de cargar en el portapapeles una copia del dataframe con formato exportable a Excel y/o exportarlo automaticamente a la carpeta establecida en las reglas\n",
    "\n",
    "### Have the option to load in the clipboard the DataFrame and to send it automatically to the folder reports set up in the business rules  "
   ]
  },
  {
   "cell_type": "code",
   "execution_count": 34,
   "metadata": {},
   "outputs": [],
   "source": [
    "identifier = list(datetime.timetuple(datetime.now()))\n",
    "# print(identifier, datetime.now())\n",
    "export_file_name = ''.join([str(n) for n in identifier]) + '_' + company_abrv_name + '_' + user_name + '.xlsx'\n",
    "\n",
    "# df.T.to_clipboard(excel=True) # con transponer activado\n",
    "# df.to_clipboard(excel=True)   # esto podria tomar algun tiempo si el DataFrame es grande\n",
    "# print(date_time)\n",
    "export_file_to = os.path.join(full_report_path, export_file_name)\n",
    "df.to_excel(export_file_to)"
   ]
  },
  {
   "cell_type": "markdown",
   "metadata": {},
   "source": [
    "###  Hecemos un merge. Este nos servira para saber si todas las cuentas que van a enviarse tiene un destino en el DW\n",
    "\n",
    "### Perform a merge to validate if all new entries have their target account set up by the chief in the DW"
   ]
  },
  {
   "cell_type": "code",
   "execution_count": 35,
   "metadata": {},
   "outputs": [],
   "source": [
    "'''\n",
    "Conociendo que tenemos el mismo nombre en ambos DataFrame podemos utilizar on='nombre_del_campo' \n",
    "en lugar de utilizar los dos argumentos (left_on='nombre_del_campo_izquierda' y right_on='nombre_del_campo_derecha')\n",
    "'''\n",
    "df_account_validator = pd.merge(df, accounts, how='left', on='id')\n",
    "# df_account_validator = pd.merge(df, cuentas, how='left', left_on='id', right_on='id')\n",
    "\n",
    "selection = df_account_validator[['label', 'monto', 'cuenta']] # taking only the necesary columns from the previous merge\n",
    "quantity = df_account_validator.shape[0]\n",
    "validator = df_account_validator[df_account_validator['label'].isna()]\n",
    "\n",
    "# print(f'ADVERTENCIA: Se encontraron {validator.shape[0]} registros sin un destino asociado en el DW.', 'NOTA: La informacion no se registrara en el DW hasta que el administrador le autorice', sep='\\n')"
   ]
  },
  {
   "cell_type": "code",
   "execution_count": 36,
   "metadata": {},
   "outputs": [
    {
     "data": {
      "text/html": [
       "<div>\n",
       "<style scoped>\n",
       "    .dataframe tbody tr th:only-of-type {\n",
       "        vertical-align: middle;\n",
       "    }\n",
       "\n",
       "    .dataframe tbody tr th {\n",
       "        vertical-align: top;\n",
       "    }\n",
       "\n",
       "    .dataframe thead th {\n",
       "        text-align: right;\n",
       "    }\n",
       "</style>\n",
       "<table border=\"1\" class=\"dataframe\">\n",
       "  <thead>\n",
       "    <tr style=\"text-align: right;\">\n",
       "      <th></th>\n",
       "      <th>nombre</th>\n",
       "      <th>monto</th>\n",
       "      <th>cuenta</th>\n",
       "      <th>label</th>\n",
       "    </tr>\n",
       "    <tr>\n",
       "      <th>id</th>\n",
       "      <th></th>\n",
       "      <th></th>\n",
       "      <th></th>\n",
       "      <th></th>\n",
       "    </tr>\n",
       "  </thead>\n",
       "  <tbody>\n",
       "  </tbody>\n",
       "</table>\n",
       "</div>"
      ],
      "text/plain": [
       "Empty DataFrame\n",
       "Columns: [nombre, monto, cuenta, label]\n",
       "Index: []"
      ]
     },
     "execution_count": 36,
     "metadata": {},
     "output_type": "execute_result"
    }
   ],
   "source": [
    "df_account_validator[df_account_validator['label'].isna()]"
   ]
  },
  {
   "cell_type": "code",
   "execution_count": null,
   "metadata": {},
   "outputs": [],
   "source": [
    "# Others ways to do the same\n",
    "\n",
    "# nuevos2 = selection[terada['LABEL'].notna()].agg(np.size) # the same result of somedf.notna().sum when we have a total match\n",
    "# print(nuevos2, end='\\n\\n')\n",
    "\n",
    "# print('The same result obtained in nuevos2:',selection.notna().sum(), sep='\\n', end='\\n\\n')\n",
    "\n",
    "# nuevos4 = df_account_validator[df_account_validator['LABEL'].isna()]\n",
    "# print(f'There are {nuevos4.shape[0]} new entries', end='\\n\\n')\n",
    "\n",
    "# print(df_account_validator.notna().sum(), end='\\n\\n')\n",
    "\n",
    "# print(df_account_validator[['LABEL', 'monto', 'cuenta']].notna().sum())"
   ]
  },
  {
   "cell_type": "markdown",
   "metadata": {},
   "source": [
    "### Validar si existen o no registros nuevos\n",
    "### Perform a validation for new \"accounts\""
   ]
  },
  {
   "cell_type": "code",
   "execution_count": 37,
   "metadata": {},
   "outputs": [
    {
     "data": {
      "text/html": [
       "<div>\n",
       "<style scoped>\n",
       "    .dataframe tbody tr th:only-of-type {\n",
       "        vertical-align: middle;\n",
       "    }\n",
       "\n",
       "    .dataframe tbody tr th {\n",
       "        vertical-align: top;\n",
       "    }\n",
       "\n",
       "    .dataframe thead th {\n",
       "        text-align: right;\n",
       "    }\n",
       "</style>\n",
       "<table border=\"1\" class=\"dataframe\">\n",
       "  <thead>\n",
       "    <tr style=\"text-align: right;\">\n",
       "      <th></th>\n",
       "      <th>nombre</th>\n",
       "      <th>monto</th>\n",
       "      <th>cuenta</th>\n",
       "      <th>label</th>\n",
       "    </tr>\n",
       "    <tr>\n",
       "      <th>id</th>\n",
       "      <th></th>\n",
       "      <th></th>\n",
       "      <th></th>\n",
       "      <th></th>\n",
       "    </tr>\n",
       "  </thead>\n",
       "  <tbody>\n",
       "  </tbody>\n",
       "</table>\n",
       "</div>"
      ],
      "text/plain": [
       "Empty DataFrame\n",
       "Columns: [nombre, monto, cuenta, label]\n",
       "Index: []"
      ]
     },
     "execution_count": 37,
     "metadata": {},
     "output_type": "execute_result"
    }
   ],
   "source": [
    "validator\n",
    "# file_to_read"
   ]
  },
  {
   "cell_type": "code",
   "execution_count": 38,
   "metadata": {},
   "outputs": [
    {
     "name": "stdout",
     "output_type": "stream",
     "text": [
      "No existen cuentas nuevas y/o notificaciones para enviar al administrador\n",
      "There aren't new entries and neither notifications to send the chief.\n"
     ]
    }
   ],
   "source": [
    "if validator.shape[0] > 0:\n",
    "    '''\n",
    "    Preparamos los registros con un filtro sobre todos aquellos no encontrados.\n",
    "    Tambien tenemos la opcion de preparar un merge con el parametro \"how=right\"\n",
    "    '''\n",
    "    print(f'Se encontraron {nuevos} registros sin un destino asociado en el DW.', \\\n",
    "          f'Debe crear la(s) cuenta(s) en Microsoft Forecaster para poder insertar los datos del nuevo periodo.', 'Presione Ctrl + V en Excel ó en un editor de texto, para evaluar los registros involucrados.', sep='\\n')\n",
    "    new_accounts = validator.copy()\n",
    "    # print(type(new_accounts), new_accounts.shape)\n",
    "    # print(new_accounts.index)\n",
    "    new_accounts.reset_index(inplace=True)\n",
    "    # print(new_accounts.index)\n",
    "    new_accounts.fillna('Not Found', inplace=True)\n",
    "    new_accounts.rename({'id': 'id a asignar', 'monto': 'Acumulado', 'cuenta': 'Cuenta origen'}, axis=1, inplace=True)\n",
    "    new_accounts.to_clipboard(excel=True)\n",
    "    # aca es donde se envian los correos indicando que hay un usuario que esta limitado para conseguir su objetivo\n",
    "else:\n",
    "    '''\n",
    "    Como todo esta correcto podemos mostrar el DataFrame que se va ingresar en el DW.\n",
    "    y le adicionamos la cuenta origen para que vea que el \"ID\" es la misma \n",
    "    cuenta origen sin caracteres especiales con la letra prefijo\n",
    "    '''    \n",
    "    print('No existen cuentas nuevas y/o notificaciones para enviar al administrador')\n",
    "    print('There aren\\'t new entries and neither notifications to send the chief.')\n",
    "    # aca se prepara el mensaje de notificacion indicand que un usuario acaba de pasar la validacion de su proceso\n",
    "    # y esta a un paso de enviar la informacion al tabla de transacciones en Microsoft Dynamics\n",
    "    selection.to_clipboard(excel=True)"
   ]
  },
  {
   "cell_type": "markdown",
   "metadata": {},
   "source": [
    "### Finalmente podemos enviar los registros a la transaccion en el DW.\n",
    "1. Validar si existe una transaccion no posteada en el Microsoft Dynamics y si existe se eliminara\n",
    "2. Enviar el DataFrame al sistema de transacciones en el DW\n",
    "\n",
    "### Finally we can to send the entries to the DW\n",
    "1. Check if exists a previous batch not posted in the DW and if exists delete it\n",
    "2. Send a DataFrame to SQL Server batch"
   ]
  },
  {
   "cell_type": "code",
   "execution_count": 39,
   "metadata": {},
   "outputs": [
    {
     "name": "stdout",
     "output_type": "stream",
     "text": [
      "Elminando registros\n",
      "Registros eliminados\n"
     ]
    }
   ],
   "source": [
    "'''\n",
    "Preparamos una consulta para pasarla al motor, teniendo en cuenta borrar cualquier transaccion con el mismo nombre\n",
    "o del mismo periodo si fuera el caso, previo a enviar la consulta para insertar los nuevos registros\n",
    "'''\n",
    "qry_delinfo = f\"Delete From transactions Where batch='{batch_name}' And errors Is Null\" \n",
    "# print(qry_delinfo)\n",
    "# qry_delbatch = \"Delete FROM transactions WHERE batch IN ('\" + batch_name + \"') \\\n",
    "# AND errors IS NULL\"\n",
    "# print(qry_delbatch)\n",
    "\n",
    "#deleting all previous data from the same period and company or any not posted (committed) information\n",
    "print('Elminando registros')\n",
    "Session = sessionmaker(bind=engine)\n",
    "session = Session()\n",
    "session.execute(qry_delinfo)\n",
    "session.commit()\n",
    "session.close()\n",
    "print('Registros eliminados')"
   ]
  },
  {
   "cell_type": "code",
   "execution_count": 40,
   "metadata": {},
   "outputs": [
    {
     "name": "stdout",
     "output_type": "stream",
     "text": [
      "Se cargaron satisfactoriamente los 290 registros\n",
      "Eliminando archivos temporales...\n",
      "Archivos temporales eliminados!!!!\n"
     ]
    }
   ],
   "source": [
    "'''\n",
    "Finalmente se agregan los registros\n",
    "Finally we add the entries in the database\n",
    "'''\n",
    "\n",
    "cols=['batch', 'gm_id', 'am_id', 'pp_id', 'amount', 'label']\n",
    "cols_rename={'id': 'am_id', 'monto': 'amount'}\n",
    "# print(type(cols))\n",
    "batch_to_insert = selection.copy()\n",
    "batch_to_insert.reset_index(inplace=True)\n",
    "# batch_to_insert.reset_index(drop=True, inplace=True)\n",
    "batch_to_insert.drop(['cuenta'], axis=1, inplace=True)\n",
    "batch_to_insert.rename(cols_rename, axis=1, inplace=True)\n",
    "\n",
    "# Adding the necessary columns\n",
    "batch_to_insert['batch'] = batch_name\n",
    "batch_to_insert['gm_id'] = company_code\n",
    "batch_to_insert['pp_id'] = periods.iloc[0,0] # In this system periods have a prefix related to process (What if, Actual, Budget)\n",
    "batch_to_insert['label'] = batch_label\n",
    "batch_to_insert = batch_to_insert.reindex(columns=cols)\n",
    "\n",
    "batch_to_insert.set_index(['batch'], inplace= True)\n",
    "\n",
    "# Insertar un Pandas DataFrame\n",
    "# Insert a Pandas DataFrame\n",
    "try:\n",
    "    batch_to_insert.to_sql('transactions', con=engine, if_exists='append', schema='dbo')\n",
    "    print('Se cargaron satisfactoriamente los', str(quantity), 'registros')\n",
    "    # Se envia el mensaje de la cola\n",
    "    print('Eliminando archivos temporales...')\n",
    "    # os.remove(txt_file)\n",
    "    print(\"Archivos temporales eliminados!!!!\")\n",
    "except:\n",
    "    print('Los registros existen en la base de datos')\n"
   ]
  },
  {
   "cell_type": "code",
   "execution_count": null,
   "metadata": {},
   "outputs": [],
   "source": [
    "# Bono: Varias formar de tomar el usuario de entorno\n",
    "# Bonus: Various ways to get the environ username\n",
    "\n",
    "periodo = periods.iloc[0,0]\n",
    "print(periodo)\n",
    "usuario = os.environ.get('USERNAME')\n",
    "print(usuario)\n",
    "usuario = os.path.expanduser('~')\n",
    "usuario = os.path.split(usuario)[-1]\n",
    "print(usuario)\n",
    "usuario = os.environ.get('USERDOMAIN')\n",
    "print(usuario)\n",
    "usuario = getpass.getuser()\n",
    "print(usuario)\n",
    "# usuario = win32api.GetUserName()\n",
    "# print(usuario)\n",
    "# usuario = win32api.GetUserNameEx(...)\n",
    "# print(usuario)"
   ]
  }
 ],
 "metadata": {
  "kernelspec": {
   "display_name": "Python 3",
   "language": "python",
   "name": "python3"
  },
  "language_info": {
   "codemirror_mode": {
    "name": "ipython",
    "version": 3
   },
   "file_extension": ".py",
   "mimetype": "text/x-python",
   "name": "python",
   "nbconvert_exporter": "python",
   "pygments_lexer": "ipython3",
   "version": "3.8.2"
  }
 },
 "nbformat": 4,
 "nbformat_minor": 4
}
